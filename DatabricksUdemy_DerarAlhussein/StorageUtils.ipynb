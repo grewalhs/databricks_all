{
 "cells": [
  {
   "cell_type": "code",
   "execution_count": 0,
   "metadata": {
    "application/vnd.databricks.v1+cell": {
     "cellMetadata": {
      "byteLimit": 2048000,
      "rowLimit": 10000
     },
     "inputWidgets": {},
     "nuid": "9372f2ad-85fb-4e21-b5fa-c6e137aee8a0",
     "showTitle": false,
     "tableResultSettingsMap": {},
     "title": ""
    }
   },
   "outputs": [],
   "source": [
    "# Define the mount point in DBFS\n",
    "mount_point = \"/mnt/azuresa/\"\n"
   ]
  },
  {
   "cell_type": "code",
   "execution_count": 0,
   "metadata": {
    "application/vnd.databricks.v1+cell": {
     "cellMetadata": {
      "byteLimit": 2048000,
      "rowLimit": 10000
     },
     "inputWidgets": {},
     "nuid": "50e60810-4700-40d0-80ab-fdf6fd9ecef4",
     "showTitle": false,
     "tableResultSettingsMap": {},
     "title": ""
    }
   },
   "outputs": [],
   "source": [
    "\n",
    "dbutils.fs.unmount(mount_point)\n"
   ]
  },
  {
   "cell_type": "code",
   "execution_count": 0,
   "metadata": {
    "application/vnd.databricks.v1+cell": {
     "cellMetadata": {
      "byteLimit": 2048000,
      "rowLimit": 10000
     },
     "inputWidgets": {},
     "nuid": "60752ecb-6a39-437f-bc24-30a7fca53aa7",
     "showTitle": false,
     "tableResultSettingsMap": {},
     "title": ""
    }
   },
   "outputs": [],
   "source": [
    "\n",
    "# Define the storage account name and container name\n",
    "storage_account_name = \"dbrickssa\"\n",
    "container_name = \"databricks\"\n",
    "\n",
    "\n",
    "# SAS token for the storage account\n",
    "sas_token = \"sv=2024-11-04&ss=bfqt&srt=sco&sp=rwdlacupyx&se=2025-09-29T06:43:46Z&st=2025-04-24T22:43:46Z&spr=https&sig=%2FWucB20stfir8%2B8F3PQ51CPuEANTW0lj7%2B2VJym%2Bu6E%3D\"\n",
    "\n",
    "# Mount the storage container\n",
    "dbutils.fs.mount(source = f\"wasbs://{container_name}@{storage_account_name}.blob.core.windows.net\", mount_point = mount_point, extra_configs = {f\"fs.azure.sas.{container_name}.{storage_account_name}.blob.core.windows.net\": sas_token}\n",
    ")\n",
    "\n",
    "# Verify the mount\n",
    "dbutils.fs.ls(mount_point)\n"
   ]
  }
 ],
 "metadata": {
  "application/vnd.databricks.v1+notebook": {
   "computePreferences": null,
   "dashboards": [],
   "environmentMetadata": {
    "base_environment": "",
    "environment_version": "2"
   },
   "inputWidgetPreferences": null,
   "language": "python",
   "notebookMetadata": {
    "pythonIndentUnit": 4
   },
   "notebookName": "StorageUtils",
   "widgets": {}
  },
  "language_info": {
   "name": "python"
  }
 },
 "nbformat": 4,
 "nbformat_minor": 0
}
